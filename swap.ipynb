{
 "cells": [
  {
   "cell_type": "code",
   "execution_count": 1,
   "id": "27b2d936",
   "metadata": {},
   "outputs": [
    {
     "name": "stdout",
     "output_type": "stream",
     "text": [
      "Saved: template/pattern_cropped_swapped.png\n"
     ]
    }
   ],
   "source": [
    "import cv2\n",
    "import numpy as np\n",
    "\n",
    "src = \"template/pattern_cropped.png\"\n",
    "out = \"template/pattern_cropped_swapped.png\"\n",
    "\n",
    "img = cv2.imread(src, cv2.IMREAD_UNCHANGED)\n",
    "\n",
    "# Split alpha\n",
    "bgr = img[:, :, :3]\n",
    "alpha = img[:, :, 3]\n",
    "\n",
    "hsv = cv2.cvtColor(bgr, cv2.COLOR_BGR2HSV)\n",
    "\n",
    "# Binary masks for red and white areas\n",
    "lower_red1, upper_red1 = np.array([0,   80, 50], np.uint8), np.array([10, 255,255], np.uint8)\n",
    "lower_red2, upper_red2 = np.array([170, 80, 50], np.uint8), np.array([180,255,255], np.uint8)\n",
    "mask_red   = cv2.inRange(hsv, lower_red1, upper_red1) | cv2.inRange(hsv, lower_red2, upper_red2)\n",
    "\n",
    "lower_white, upper_white = np.array([0,0,200], np.uint8), np.array([180,40,255], np.uint8)\n",
    "mask_white = cv2.inRange(hsv, lower_white, upper_white)\n",
    "\n",
    "# ---- Feather edges ----\n",
    "def soft(mask, sigma=1.2, gain=1.2):\n",
    "    m = mask.astype(np.float32) / 255.0\n",
    "    m = cv2.GaussianBlur(m, (0,0), sigmaX=sigma, sigmaY=sigma)   # feather\n",
    "    m *= gain                                                     # slightly expand coverage\n",
    "    return np.clip(m, 0, 1)\n",
    "\n",
    "soft_red   = soft(mask_red,   sigma=1.0, gain=1.2)\n",
    "soft_white = soft(mask_white, sigma=1.0, gain=1.2)\n",
    "soft_white[mask_red > 0] = 0\n",
    "soft_red[mask_white > 0] = 0\n",
    "\n",
    "# Red tone from the image\n",
    "red_pixels = bgr[mask_red > 0]\n",
    "red_color = (np.median(red_pixels, axis=0).astype(np.uint8) if red_pixels.size\n",
    "             else np.array([0,0,255], np.uint8))  # BGR fallback\n",
    "\n",
    "# Targets\n",
    "WHITE = np.array([255,255,255], np.uint8)\n",
    "RED   = red_color\n",
    "\n",
    "# ---- Blend ----\n",
    "out_bgr = bgr.copy()\n",
    "# red → white\n",
    "out_bgr = (out_bgr*(1 - soft_red[...,None]) + WHITE[None,None,:]*soft_red[...,None]).astype(np.uint8)\n",
    "# white → red\n",
    "out_bgr = (out_bgr*(1 - soft_white[...,None]) + RED[None,None,:]*soft_white[...,None]).astype(np.uint8)\n",
    "\n",
    "# Reattach alpha and save\n",
    "out_img = cv2.merge([out_bgr[:,:,0], out_bgr[:,:,1], out_bgr[:,:,2], alpha]) \n",
    "cv2.imwrite(out, out_img)\n",
    "print(\"Saved:\", out)\n",
    "\n"
   ]
  }
 ],
 "metadata": {
  "kernelspec": {
   "display_name": ".venv",
   "language": "python",
   "name": "python3"
  },
  "language_info": {
   "codemirror_mode": {
    "name": "ipython",
    "version": 3
   },
   "file_extension": ".py",
   "mimetype": "text/x-python",
   "name": "python",
   "nbconvert_exporter": "python",
   "pygments_lexer": "ipython3",
   "version": "3.12.3"
  }
 },
 "nbformat": 4,
 "nbformat_minor": 5
}
